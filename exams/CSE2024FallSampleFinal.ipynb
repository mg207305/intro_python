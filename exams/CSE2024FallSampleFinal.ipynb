{
 "cells": [
  {
   "cell_type": "markdown",
   "metadata": {
    "id": "7hvfx9Do2fXs"
   },
   "source": [
    "# (1) [7pts] Input, type, assignment, output, format output\n",
    "1. Write code to ask users to input: (1) their name (saved as a string), and (2) the year they were born (saved as an integer) and (3) their height in cm (saved as a float). Assign those three inputs to three variables\n",
    "2. Write code to print the type of those three variables\n",
    "3. Write code to print the following statement with the same format using `f-string` output method:\n",
    "\n",
    "Example:\n",
    "```\n",
    "Input:\n",
    "John\n",
    "1967\n",
    "178.4\n",
    "\n",
    "Output:\n",
    "My name is John. I was born in 1967 and my height is 178.4 cm.\n",
    "\n",
    "Format to follow:\n",
    "My name is {}. I was born in {} and my height is {} cm.\n",
    "```\n"
   ]
  },
  {
   "cell_type": "code",
   "metadata": {
    "id": "MyrjMrbK2fXw",
    "ExecuteTime": {
     "end_time": "2024-12-09T02:40:25.155245Z",
     "start_time": "2024-12-09T02:40:23.168833Z"
    }
   },
   "source": [
    "x = input()\n",
    "y = input()\n",
    "z = input()\n",
    "\n",
    "print(f\"My name is {x}. I was born in {y} and my height is {z} cm.\")\n"
   ],
   "outputs": [
    {
     "ename": "KeyboardInterrupt",
     "evalue": "Interrupted by user",
     "output_type": "error",
     "traceback": [
      "\u001B[1;31m---------------------------------------------------------------------------\u001B[0m",
      "\u001B[1;31mKeyboardInterrupt\u001B[0m                         Traceback (most recent call last)",
      "Cell \u001B[1;32mIn[1], line 1\u001B[0m\n\u001B[1;32m----> 1\u001B[0m x \u001B[38;5;241m=\u001B[39m \u001B[38;5;28;43minput\u001B[39;49m\u001B[43m(\u001B[49m\u001B[43m)\u001B[49m\n\u001B[0;32m      2\u001B[0m y \u001B[38;5;241m=\u001B[39m \u001B[38;5;28minput\u001B[39m()\n\u001B[0;32m      3\u001B[0m z \u001B[38;5;241m=\u001B[39m \u001B[38;5;28minput\u001B[39m()\n",
      "File \u001B[1;32m~\\AppData\\Local\\Programs\\Python\\Python312\\Lib\\site-packages\\ipykernel\\kernelbase.py:1282\u001B[0m, in \u001B[0;36mKernel.raw_input\u001B[1;34m(self, prompt)\u001B[0m\n\u001B[0;32m   1280\u001B[0m     msg \u001B[38;5;241m=\u001B[39m \u001B[38;5;124m\"\u001B[39m\u001B[38;5;124mraw_input was called, but this frontend does not support input requests.\u001B[39m\u001B[38;5;124m\"\u001B[39m\n\u001B[0;32m   1281\u001B[0m     \u001B[38;5;28;01mraise\u001B[39;00m StdinNotImplementedError(msg)\n\u001B[1;32m-> 1282\u001B[0m \u001B[38;5;28;01mreturn\u001B[39;00m \u001B[38;5;28;43mself\u001B[39;49m\u001B[38;5;241;43m.\u001B[39;49m\u001B[43m_input_request\u001B[49m\u001B[43m(\u001B[49m\n\u001B[0;32m   1283\u001B[0m \u001B[43m    \u001B[49m\u001B[38;5;28;43mstr\u001B[39;49m\u001B[43m(\u001B[49m\u001B[43mprompt\u001B[49m\u001B[43m)\u001B[49m\u001B[43m,\u001B[49m\n\u001B[0;32m   1284\u001B[0m \u001B[43m    \u001B[49m\u001B[38;5;28;43mself\u001B[39;49m\u001B[38;5;241;43m.\u001B[39;49m\u001B[43m_parent_ident\u001B[49m\u001B[43m[\u001B[49m\u001B[38;5;124;43m\"\u001B[39;49m\u001B[38;5;124;43mshell\u001B[39;49m\u001B[38;5;124;43m\"\u001B[39;49m\u001B[43m]\u001B[49m\u001B[43m,\u001B[49m\n\u001B[0;32m   1285\u001B[0m \u001B[43m    \u001B[49m\u001B[38;5;28;43mself\u001B[39;49m\u001B[38;5;241;43m.\u001B[39;49m\u001B[43mget_parent\u001B[49m\u001B[43m(\u001B[49m\u001B[38;5;124;43m\"\u001B[39;49m\u001B[38;5;124;43mshell\u001B[39;49m\u001B[38;5;124;43m\"\u001B[39;49m\u001B[43m)\u001B[49m\u001B[43m,\u001B[49m\n\u001B[0;32m   1286\u001B[0m \u001B[43m    \u001B[49m\u001B[43mpassword\u001B[49m\u001B[38;5;241;43m=\u001B[39;49m\u001B[38;5;28;43;01mFalse\u001B[39;49;00m\u001B[43m,\u001B[49m\n\u001B[0;32m   1287\u001B[0m \u001B[43m\u001B[49m\u001B[43m)\u001B[49m\n",
      "File \u001B[1;32m~\\AppData\\Local\\Programs\\Python\\Python312\\Lib\\site-packages\\ipykernel\\kernelbase.py:1325\u001B[0m, in \u001B[0;36mKernel._input_request\u001B[1;34m(self, prompt, ident, parent, password)\u001B[0m\n\u001B[0;32m   1322\u001B[0m \u001B[38;5;28;01mexcept\u001B[39;00m \u001B[38;5;167;01mKeyboardInterrupt\u001B[39;00m:\n\u001B[0;32m   1323\u001B[0m     \u001B[38;5;66;03m# re-raise KeyboardInterrupt, to truncate traceback\u001B[39;00m\n\u001B[0;32m   1324\u001B[0m     msg \u001B[38;5;241m=\u001B[39m \u001B[38;5;124m\"\u001B[39m\u001B[38;5;124mInterrupted by user\u001B[39m\u001B[38;5;124m\"\u001B[39m\n\u001B[1;32m-> 1325\u001B[0m     \u001B[38;5;28;01mraise\u001B[39;00m \u001B[38;5;167;01mKeyboardInterrupt\u001B[39;00m(msg) \u001B[38;5;28;01mfrom\u001B[39;00m \u001B[38;5;28;01mNone\u001B[39;00m\n\u001B[0;32m   1326\u001B[0m \u001B[38;5;28;01mexcept\u001B[39;00m \u001B[38;5;167;01mException\u001B[39;00m:\n\u001B[0;32m   1327\u001B[0m     \u001B[38;5;28mself\u001B[39m\u001B[38;5;241m.\u001B[39mlog\u001B[38;5;241m.\u001B[39mwarning(\u001B[38;5;124m\"\u001B[39m\u001B[38;5;124mInvalid Message:\u001B[39m\u001B[38;5;124m\"\u001B[39m, exc_info\u001B[38;5;241m=\u001B[39m\u001B[38;5;28;01mTrue\u001B[39;00m)\n",
      "\u001B[1;31mKeyboardInterrupt\u001B[0m: Interrupted by user"
     ]
    }
   ],
   "execution_count": 1
  },
  {
   "cell_type": "markdown",
   "metadata": {
    "id": "RxlZNbSA2fXx"
   },
   "source": [
    "# (2) [7pts] Income Tax calculation\n",
    "Write Python code to prompt users to input their yearly sales and then calculate their annual bonus based on the following rules:\n",
    "\n",
    "Rule 1: Provide a 5% bonus for the first $10,000 of sales.\n",
    "\n",
    "Rule 2: Provide an additional 7% bonus for the next $20,000 of sales.\n",
    "\n",
    "Rule 3: Provide a 10% bonus for any remaining sales.\n",
    "\n",
    "Example:\n",
    "```\n",
    "Input:\n",
    "10000\n",
    "\n",
    "Output:\n",
    "500\n",
    "\n",
    "Input:\n",
    "25000\n",
    "\n",
    "Output:\n",
    "1550\n",
    "\n",
    "Input:\n",
    "40000\n",
    "\n",
    "Output:\n",
    "2900\n",
    "```"
   ]
  },
  {
   "cell_type": "markdown",
   "source": [],
   "metadata": {
    "id": "hBRyv6Qi0ZJy"
   }
  },
  {
   "cell_type": "code",
   "execution_count": null,
   "metadata": {
    "id": "b-3N5zss2fXx"
   },
   "outputs": [],
   "source": [
    "# enter your code here for 2):\n"
   ]
  },
  {
   "cell_type": "markdown",
   "metadata": {
    "id": "Kt5DN0mn2fXy"
   },
   "source": [
    "# (3) [7pts] Nested for loop\n",
    "Given a nested list with integers, print every two numeric values in each sublist. However, before printing, check if the values are between 20 and 70 inclusive.\n",
    "\n",
    "Example:\n",
    "```\n",
    "nested_list = [[20,55,65,43,72,37,91,83,21],[75,33,59,65,42,1,32,80,67]]\n",
    "\n",
    "Output:\n",
    "20\n",
    "65\n",
    "21\n",
    "59\n",
    "42\n",
    "32\n",
    "67\n",
    "\n",
    "```"
   ]
  },
  {
   "cell_type": "code",
   "execution_count": null,
   "metadata": {
    "id": "WGcJelft2fXy"
   },
   "outputs": [],
   "source": [
    "# enter your code here for 3):\n",
    "nested_list = [[20,55,65],[75,33,59]]\n"
   ]
  },
  {
   "cell_type": "markdown",
   "metadata": {
    "id": "B1UsDc-w2fX1"
   },
   "source": [
    "# (4) [9pts] Function odd_roots_even_squares()\n",
    "Perform the following steps:\n",
    "\n",
    "1) Create a Python function called odd_roots_even_squares\n",
    "\n",
    "2) its parameter num is a positive integer\n",
    "\n",
    "3) prints the square root of all odd numbers between 0 and num inclusive (limited to two decimal points), prints the squares of all even numbers between 0 and num inclusive\n",
    "\n",
    "Example: if num = 7 then the output looks like this:\n",
    "\n",
    "Hint: Use the math.sqrt() function\n",
    "```\n",
    "1\n",
    "4\n",
    "1.73\n",
    "16\n",
    "2.23\n",
    "36\n",
    "2.64\n",
    "```\n",
    "\n"
   ]
  },
  {
   "cell_type": "code",
   "execution_count": null,
   "metadata": {
    "id": "61Vbq3rQ2fX1"
   },
   "outputs": [],
   "source": [
    "# enter your code here for 4):\n",
    "import math"
   ]
  },
  {
   "cell_type": "markdown",
   "metadata": {
    "id": "CiTQjXcU2fX1"
   },
   "source": [
    "#(5) [7pts] Square Root and Factorial of List Elements\n",
    "\n",
    "Perform the following steps:\n",
    "\n",
    "- Use the **sqrt** function from the math module to calculate the square root of each number in num_list.\n",
    "\n",
    "- Use the **factorial** function from the math module to calculate the factorial of each number in num_list that is less than 10.\n",
    "\n",
    "- Display the square roots and the factorials of the numbers in num_list."
   ]
  },
  {
   "cell_type": "code",
   "source": [
    "# enter your code here for 5):\n",
    "import math\n",
    "\n",
    "num_list = [2, 6, 1, 8, 3, 4, 2, 8, 7, 9]\n",
    "\n",
    "# Calculate and display the square root of each number in num_list:\n",
    "\n",
    "# Calculate and display the factorial of each number in num_list that is less than 10:"
   ],
   "metadata": {
    "id": "tXS1U-BFIIpA"
   },
   "execution_count": null,
   "outputs": []
  },
  {
   "cell_type": "markdown",
   "metadata": {
    "id": "XvzjtQFo2fX2"
   },
   "source": [
    "# (6) [7pts] Calculate factorial\n",
    "The factorial of a non-negative integer `num`, denoted by `num!`, is the product of all positive integers less than or equal to num.\n",
    "\n",
    "Write a recursive Python function called `factorial` which takes a positive integer `num` as parameter and and then prints the value of `num!`."
   ]
  },
  {
   "cell_type": "code",
   "execution_count": null,
   "metadata": {
    "id": "_I_nTBIi2fX2"
   },
   "outputs": [],
   "source": [
    "# enter your code here for 6):\n",
    "#def factorial(num):\n",
    "\n",
    "# print the value of 10! here:"
   ]
  },
  {
   "cell_type": "markdown",
   "source": [
    "# (7) [7pts] Fix a program.\n",
    " Fix the Errors in the following Python Code:"
   ],
   "metadata": {
    "id": "tZIwdSu82pjH"
   }
  },
  {
   "cell_type": "code",
   "source": [
    "import math\n",
    "\n",
    "class Circle:\n",
    "    def _init_(self, radius):\n",
    "        self.radius = radius\n",
    "\n",
    "    def get_radius(self):\n",
    "        return radius\n",
    "\n",
    "    def get_area(self):\n",
    "        return math.pi * radius ** 2\n",
    "\n",
    "    def get_circumference():\n",
    "        return 2 * math.pi * self.radius\n",
    "\n",
    "circle1 = Circle(5)\n",
    "circle1_radius = circle1.get_radius()\n",
    "circle1_area = Circle.get_area(circle1)\n",
    "circle1_circumference = circle1.get_circumference()\n",
    "print(\"Radius =\", circle1_radius)\n",
    "print(\"Area =\", circle1_area)\n",
    "print(\"Circumference =\", circle1_circumference)"
   ],
   "metadata": {
    "id": "MjNVnyeo2zAq"
   },
   "execution_count": null,
   "outputs": []
  },
  {
   "cell_type": "markdown",
   "source": [
    "# (8) [10pts]\n",
    "Write a class Car that has four instance variables: ***make, model, year, owner***, and the following instance methods:\n",
    "- \\_\\_init__()\n",
    "- get_make()\n",
    "- get_model()\n",
    "- get_year()\n",
    "- get_owner()\n",
    "- set_make(make)\n",
    "- set_model(model)\n",
    "- set_year(year)\n",
    "- set_owner(owner)\n",
    "\n",
    "Your class Car should work with the following driver program (a program that tests your class implementation):"
   ],
   "metadata": {
    "id": "wY5mMCx-21bd"
   }
  },
  {
   "cell_type": "code",
   "source": [
    "class Car:\n",
    "  pass\n",
    "\n",
    "\n",
    "# driver program\n",
    "if __name__ == '__main__':\n",
    "    # Create the first car object\n",
    "    vintage_car = Car('Ford', 'Mustang', 1967, 'John Doe')\n",
    "    print(\"Vintage car = \", vintage_car)\n",
    "\n",
    "    # Create a second car object with the same make and model as the first\n",
    "    duplicate_vintage_car = Car('Ford', 'Mustang', 1980, 'Jane Doe')  # Different year and owner, same make and model\n",
    "    print(\"Duplicate vintage car = \", duplicate_vintage_car)\n",
    "\n",
    "    # Test equality based on make and model\n",
    "    if vintage_car == duplicate_vintage_car:\n",
    "        print(f'{vintage_car} and {duplicate_vintage_car} are considered the same car (based on make and model).')\n",
    "    else:\n",
    "        print(f'{vintage_car} and {duplicate_vintage_car} are NOT considered the same car.')\n",
    "\n",
    "    # Create a modern car\n",
    "    modern_car = Car('Tesla', 'Model S', 2022, 'Elon Musk')\n",
    "    print(\"Modern car = \", modern_car)\n",
    "\n",
    "    # Create a future car and test comparison\n",
    "    future_car = Car('Tesla', 'Cybertruck', 2030, 'Future Owner')\n",
    "    if modern_car < future_car:\n",
    "        print(f'{modern_car} is older than {future_car}.')"
   ],
   "metadata": {
    "id": "v4XwcuEs2_26"
   },
   "execution_count": null,
   "outputs": []
  },
  {
   "cell_type": "markdown",
   "source": [
    "The program should produce the output in the preceding cell"
   ],
   "metadata": {
    "id": "yvs-w7id3VeD"
   }
  },
  {
   "cell_type": "markdown",
   "source": [
    "# (9) [7 pts]\n",
    "The given dictionary has cities as keys and tuples for the values. Each tuple contains temperatures recorded during a week. Print out each city and the sum of the positive temperatures in the tuple.\n",
    "\n",
    "Example:\n",
    "Given city_temps = {   \"San Francisco\": (65, -10, 70, 55, -5),   \"New York\": (80, 60, -15, 70),   \"Chicago\": (-5, 45, 50, -20, 30)   }\n",
    "\n",
    "\n",
    "Display the following output:\n",
    "\n",
    "San Francisco: 190  \n",
    "New York: 210  \n",
    "Chicago: 125\n"
   ],
   "metadata": {
    "id": "n64IdzCyn1BX"
   }
  },
  {
   "cell_type": "code",
   "source": [
    "# write your code here for 9):\n",
    "\n",
    "\n",
    "\n",
    "\n",
    "\n",
    "\n",
    "\n",
    "\n",
    "\n",
    "\n",
    "\n",
    "\n",
    "\n",
    "\n",
    "\n"
   ],
   "metadata": {
    "id": "MMG9EAASnhow"
   },
   "execution_count": null,
   "outputs": []
  },
  {
   "cell_type": "markdown",
   "source": [
    "# (10) [7pts] Fix a program.\n",
    " There are several errors in the following code: find the errors and correct them."
   ],
   "metadata": {
    "id": "6gIwVbqu3OTd"
   }
  },
  {
   "cell_type": "code",
   "source": [
    "class Animal():\n",
    "    def __init__(self, type):\n",
    "        self.type = types\n",
    "    def sound(self):\n",
    "        print(\"A \" + self.type + \" makes a sound!\")\n",
    "    def sleep(self):\n",
    "        print(\"A \" + type + \" is sleeping...\")\n",
    "    def greet(self, other_animal):\n",
    "        print(self.type + \": Hello, \" + otheranimal.type + \"!\")\n",
    "\n",
    "\n",
    "\n",
    "\n",
    "\n",
    "\n",
    "\n",
    "\n",
    "# main program\n",
    "\n",
    "# Create an Animal object for a dog\n",
    "dog = Animal()\n",
    "\n",
    "# Make the dog sound\n",
    "dog.bark()\n",
    "\n",
    "# Make the dog sleep\n",
    "dog.sleep()\n",
    "\n",
    "# Create another Animal object for a cat\n",
    "cat = Animal(\"Cat\")\n",
    "\n",
    "# Make the cat greet the dog\n",
    "cat.greets(dog)"
   ],
   "metadata": {
    "id": "uq504EqS3a_0"
   },
   "execution_count": null,
   "outputs": []
  },
  {
   "cell_type": "markdown",
   "source": [
    "  # (11) [10pts] Write a Python class.\n",
    "\n",
    " Create a class Rectangle that should have the following data attributes:\n",
    "\n",
    "*   length (default value is 1)\n",
    "*   width (default value is 1)\n",
    "\n",
    "and the following instance methods:\n",
    "\n",
    "\n",
    "*   __init__(length, width) assigns the data attributes to the values of the corresponding parameters.\n",
    "*   area() returns the rectangle area based on the input attributes\n",
    "\n",
    "*   perimeter() returns the rectangle perimeter based on the input attributes\n",
    "*   resize(length, width) changes the rectangles measurements\n",
    "\n",
    "\n",
    "\n"
   ],
   "metadata": {
    "id": "RV9rKOmF3eoD"
   }
  },
  {
   "cell_type": "code",
   "source": [
    "class Rectangle():\n",
    "  def __init__(self, length, width):\n",
    "    #add your code here\n",
    "\n",
    "  def area():\n",
    "    #add your code here\n",
    "\n",
    "  def perimeter():\n",
    "    #add your code here\n",
    "\n",
    "  def resize(length, width):\n",
    "    #add your code here\n",
    "\n",
    "\n",
    "\n",
    "\n",
    "\n",
    "\n",
    "\n",
    "\n",
    "\n",
    "\n",
    "\n",
    "\n",
    "\n",
    "\n",
    "\n",
    "\n",
    "\n",
    "\n",
    "\n",
    "\n",
    "\n",
    "\n",
    "\n",
    "\n",
    "\n",
    "# main program\n",
    "rectangle1 = Rectangle(5,4)\n",
    "print(rectangle1.area())\n",
    "print(rectangle1.perimeter())\n",
    "\n",
    "rectangle2 = Rectangle(6,5)\n",
    "print(rectangle1.area())\n",
    "print(rectangle1.perimeter())\n",
    "\n",
    "rectangle1.resize(10,3)\n",
    "print(rectangle1.area())"
   ],
   "metadata": {
    "id": "ju9l-jkX3idw",
    "colab": {
     "base_uri": "https://localhost:8080/"
    },
    "outputId": "d2a81b90-251f-4440-de9f-7284f3a6a694"
   },
   "execution_count": null,
   "outputs": [
    {
     "output_type": "stream",
     "name": "stdout",
     "text": [
      "The speed of Alpha is now 500\n",
      "The speed of Omega is now 750\n",
      "Omega fired at ship Alpha\n",
      "Alpha stopped\n"
     ]
    }
   ]
  },
  {
   "cell_type": "markdown",
   "source": [
    "# (12) [7 pts]\n",
    "\n",
    "Perform the following steps:\n",
    "\n",
    "1) Sort the list called \"items\" in alphabetical order\n",
    "\n",
    "2) print the sorted list\n",
    "\n",
    "3) Print  the first letter of each item in the sorted list if it hasn't already been printed (i.e., no duplicate letters are printed)\n",
    "\n",
    "EXAMPLE:\n",
    "\n",
    "items =   [\"Zucchini\", \"Pizza\", \"Aardvark\", \"Potatoes\", \"Apple\", \"Sweet\", \"Sour\"]\n",
    "\n",
    "Sorted =  ['Aardvark\", \"Apple\",\"Pizza\",\"Potatoes\",\"Sour\",\"Sweet\", \"Zucchini\"]\n",
    "\n",
    "Letters = A P S Z"
   ],
   "metadata": {
    "id": "DuPsxJ8Kqvsi"
   }
  },
  {
   "cell_type": "code",
   "source": [
    "# write your Python code here for 12):\n",
    "\n",
    "items = [\"Pizza\", \"Aardvark\", \"Potatoes\", \"Apple\", \"Sweet\", \"Sour\"]\n",
    "\n",
    "# output:\n",
    "# A P S Z\n"
   ],
   "metadata": {
    "id": "XEm5yrIyqvBA"
   },
   "execution_count": null,
   "outputs": []
  },
  {
   "cell_type": "markdown",
   "source": [
    "# (13) [2pts] What is the output of the following code (A, B, C, or D)\n",
    "\n",
    "\n"
   ],
   "metadata": {
    "id": "lGI2i-Byhe10"
   }
  },
  {
   "cell_type": "code",
   "source": [
    "my_list = [3, 4, 5, 6, 7]\n",
    "new_list = [i ** 2 for i in my_list if i % 3 == 0]\n",
    "print(new_list)\n",
    "\n",
    "# A. [1, 4, 9, 16, 25]\n",
    "# B. [9, 36]\n",
    "# C. [1, 9, 25]\n",
    "# D. [2, 4, 6, 8, 10]\n",
    "#Answer: B\n",
    "\n",
    "# => display your answer with this type of print statement:\n",
    "print(\"Answer = B\")"
   ],
   "metadata": {
    "id": "nYwvMZPRhugr",
    "colab": {
     "base_uri": "https://localhost:8080/"
    },
    "outputId": "c4fd4ad8-9383-4333-d47d-525b6ea00574"
   },
   "execution_count": null,
   "outputs": [
    {
     "output_type": "stream",
     "name": "stdout",
     "text": [
      "[16, 36]\n",
      "Answer = B\n"
     ]
    }
   ]
  },
  {
   "cell_type": "markdown",
   "source": [
    "# (14) [6pts] Write a function called `exception_division` that takes two parameters num1 and num2 and divide them. Use a try/except block to catch errors like ZeroDivisionError, TypeError, and any other while attempting to divide num1 and num2.\n",
    "\n",
    "Specifically your code will do the following:\n",
    "\n",
    "1) if num1 and num2 *can* be divided then print their result\n",
    "\n",
    "2) print a message if the division is not possible due to division by 0\n",
    "\n",
    "3) print a message if the division is not possible due to input type\n",
    "\n",
    "4) print a message if the division is not possible by any other reason\n",
    "\n"
   ],
   "metadata": {
    "id": "29Z_TYuCh8y7"
   }
  },
  {
   "cell_type": "code",
   "source": [
    "# write your Python code here for 14):\n",
    "\n",
    "def exception_division():\n",
    "  #write your code here\n",
    "\n",
    "\n",
    "\n",
    "\n",
    "\n",
    "\n",
    "\n",
    "\n",
    "\n",
    "\n",
    "\n",
    "\n",
    "\n",
    "\n",
    "\n"
   ],
   "metadata": {
    "id": "JnKq5RTyJSx2"
   },
   "execution_count": null,
   "outputs": []
  }
 ],
 "metadata": {
  "colab": {
   "provenance": []
  },
  "kernelspec": {
   "display_name": "Python 3",
   "language": "python",
   "name": "python3"
  },
  "language_info": {
   "codemirror_mode": {
    "name": "ipython",
    "version": 2
   },
   "file_extension": ".py",
   "mimetype": "text/x-python",
   "name": "python",
   "nbconvert_exporter": "python",
   "pygments_lexer": "ipython2",
   "version": "2.7.6"
  }
 },
 "nbformat": 4,
 "nbformat_minor": 0
}
