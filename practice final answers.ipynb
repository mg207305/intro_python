{
 "cells": [
  {
   "cell_type": "markdown",
   "metadata": {
    "collapsed": true,
    "pycharm": {
     "name": "#%% md\n"
    }
   },
   "source": [
    "# Welcome to the final!\n",
    "\n",
    "You have 120 minutes to complete the exam and submit it through Canvas. The exam is out of 65, with 5 points of extra credit available. Attempt all questions! Partial credit will be given for wrong but partially correct answers. Follow the instructions. Save your work as you go! When done, submit the **.ipynb** file through canvas. We will compare answers to detect cheating and cheaters will get zero."
   ]
  },
  {
   "cell_type": "markdown",
   "source": [
    "(1) [5] Write a **generator function** called \"powersOfTwo\" which takes a positive integer argument x and YIELDS successive powers of two in the sequence 2\\*\\*0=1, 2\\*\\*1=2, 2\\*\\*2=4, 2\\*\\*3=8, 2\\*\\*4==16, 2\\*\\*5==32, ... 2\\*\\*x\n",
    "\n",
    "**Rubric**\n",
    "* [1pt] correct function definition line\n",
    "* [1pt] correctly yields values\n",
    "* [1pt] correctly yields x values\n",
    "* [1pt] correctly yields powers of two\n",
    "* [1pt] correctly yields the correct sequence of powers of two"
   ],
   "metadata": {
    "collapsed": false,
    "pycharm": {
     "name": "#%% md\n"
    }
   }
  },
  {
   "cell_type": "code",
   "execution_count": 36,
   "outputs": [
    {
     "name": "stdout",
     "output_type": "stream",
     "text": [
      "0 1\n",
      "1 2\n",
      "2 4\n",
      "3 8\n",
      "4 16\n",
      "5 32\n",
      "6 64\n",
      "7 128\n",
      "8 256\n",
      "9 512\n"
     ]
    }
   ],
   "source": [
    "# Write your function below\n",
    "def powersOfTwo(x):\n",
    "    for i in range(x):\n",
    "        yield 2**i\n",
    "\n",
    "# This code should work\n",
    "for i, j in enumerate(powersOfTwo(10)):\n",
    "    print(i, j)\n",
    "    assert 2**i == j # This assert should be true"
   ],
   "metadata": {
    "collapsed": false,
    "pycharm": {
     "name": "#%%\n"
    }
   }
  },
  {
   "cell_type": "markdown",
   "source": [
    "(2) [2pts] Use the **mean** function from the **statistics** module to calculate the average of the list.\n",
    "\n",
    "**Rubric**\n",
    "* [1pt] correctly imports the statistics module or the mean function from\n",
    "the statistics module\n",
    "* [1pt] correctly calls the mean function"
   ],
   "metadata": {
    "collapsed": false,
    "pycharm": {
     "name": "#%% md\n"
    }
   }
  },
  {
   "cell_type": "code",
   "execution_count": 14,
   "outputs": [
    {
     "data": {
      "text/plain": "4.555555555555555"
     },
     "execution_count": 14,
     "metadata": {},
     "output_type": "execute_result"
    }
   ],
   "source": [
    "x = [ 1, 8, 3, 4, 2, 8, 7, 2, 6 ]\n",
    "\n",
    "## Write your code here - note you should use an import statement\n",
    "import statistics\n",
    "statistics.mean(x)"
   ],
   "metadata": {
    "collapsed": false,
    "pycharm": {
     "name": "#%%\n"
    }
   }
  },
  {
   "cell_type": "markdown",
   "source": [
    "(3) [4pts] Fix the code by debugging it. The code should read two number from the user and print the resulting sum of the numbers.\n",
    "\n",
    "**Rubric**\n",
    "* [1pt] Fixes x = line\n",
    "* [2pt] Fixes y = line (reverse the input and float and add a missing parenthesis)\n",
    "* [1pt] Fixes the print line"
   ],
   "metadata": {
    "collapsed": false,
    "pycharm": {
     "name": "#%% md\n"
    }
   }
  },
  {
   "cell_type": "code",
   "execution_count": 16,
   "outputs": [
    {
     "name": "stdout",
     "output_type": "stream",
     "text": [
      "The sum of your two numbers is:  15.0\n"
     ]
    }
   ],
   "source": [
    "# Fix this code so that it works\n",
    "# It has a syntax, runtime and semantic errors\n",
    "\n",
    "#x = input(\"Give me a number: \")\n",
    "#y = input(float(\"Give me a another number: \")\n",
    "\n",
    "#print(\"The sum of your two numbers is: \", x-y)\n",
    "\n",
    "## Code should be\n",
    "x = float(input(\"Give me a number: \"))\n",
    "y = float(input(\"Give me a another number: \"))\n",
    "\n",
    "print(\"The sum of your two numbers is: \", x+y)"
   ],
   "metadata": {
    "collapsed": false,
    "pycharm": {
     "name": "#%%\n"
    }
   }
  },
  {
   "cell_type": "markdown",
   "source": [
    "(4) [6pts] Write the list of integers (whole numbers) l to file \"ints.txt\", putting each integer on a different line. Use the \"with\" keyword to ensure that the file handle is cleaned up.\n",
    "\n",
    "**Rubric**\n",
    "* [1pt] Opens the file.\n",
    "* [1pt] Opens the file for writing.\n",
    "* [1pt] properly uses the with keyword, half a point if they instead\n",
    "close the file handle explicitly without using with\n",
    "* [1pt] iterates over the elements of l\n",
    "* [1pt] writes each number to the file\n",
    "* [1pt] correctly formats each write statement to end with a newline\n"
   ],
   "metadata": {
    "collapsed": false,
    "pycharm": {
     "name": "#%% md\n"
    }
   }
  },
  {
   "cell_type": "code",
   "execution_count": 37,
   "outputs": [],
   "source": [
    "l = list(range(100))\n",
    "\n",
    "# Write your code below to write l to \"ints.txt\" putting each number on a new line\n",
    "with open(\"ints.txt\", 'w') as f:\n",
    "    for i in l:\n",
    "        f.write(f\"{i}\\n\")"
   ],
   "metadata": {
    "collapsed": false,
    "pycharm": {
     "name": "#%%\n"
    }
   }
  },
  {
   "cell_type": "markdown",
   "source": [
    "(5) [5pts] Read the list of integers, you wrote in the previous question, from \"ints.txt\" to a list l2. Again, use the \"with\" keyword to ensure that the file handle is cleaned up.\n",
    "\n",
    "**Rubric**\n",
    "* [1pt] Opens the file.\n",
    "* [1pt] Opens the file for reading.\n",
    "* [1pt] properly uses the with keyword, half a point if they instead\n",
    "close the file handle explicitly without using with\n",
    "* [1pt] iterates over the lines in the file\n",
    "* [1pt] reads each number correctly and appends to l2"
   ],
   "metadata": {
    "collapsed": false,
    "pycharm": {
     "name": "#%% md\n"
    }
   }
  },
  {
   "cell_type": "code",
   "execution_count": 21,
   "outputs": [],
   "source": [
    "# Write your code here\n",
    "l2 = []\n",
    "with open(\"ints.txt\", \"r\") as f:\n",
    "    for i in f.readlines():\n",
    "        l2.append(int(i))\n",
    "\n",
    "# When you're done the following should be true\n",
    "assert l == l2"
   ],
   "metadata": {
    "collapsed": false,
    "pycharm": {
     "name": "#%%\n"
    }
   }
  },
  {
   "cell_type": "markdown",
   "source": [
    "(6) [2pts] Delete the file \"ints.txt\". Hint: Use a function in the os module.\n",
    "\n",
    "**Rubric**\n",
    "* [1pt] Imports the os module or the os.remove function\n",
    "* [1pt] Correctly removes the file using os.remove"
   ],
   "metadata": {
    "collapsed": false,
    "pycharm": {
     "name": "#%% md\n"
    }
   }
  },
  {
   "cell_type": "code",
   "execution_count": 22,
   "outputs": [],
   "source": [
    "# Write your code here\n",
    "import os\n",
    "os.remove(\"ints.txt\")"
   ],
   "metadata": {
    "collapsed": false,
    "pycharm": {
     "name": "#%%\n"
    }
   }
  },
  {
   "cell_type": "markdown",
   "source": [
    "(7) [4pts] Imagine you are designing a program to model a home. Create a class named \"Room\". The class should have an \\_\\_init\\_\\_ method that takes three arguments, \"room_name\", \"length\", and \"width\" and creates object variables with corresponding names. Include a docstring for class.\n",
    "\n",
    "**Rubric**\n",
    "* [1pt] Correct class definition line.\n",
    "* [1pt] Includes a docstring for the class - any valid string below the class\n",
    "definition line\n",
    "* [1pt] correct \\_\\_init\\_\\_ definition line.\n",
    "* [1pt] correctly assigns the room_name, length and width variables"
   ],
   "metadata": {
    "collapsed": false,
    "pycharm": {
     "name": "#%% md\n"
    }
   }
  },
  {
   "cell_type": "code",
   "execution_count": 24,
   "outputs": [
    {
     "name": "stdout",
     "output_type": "stream",
     "text": [
      "Room name: kitchen, length: 25, width: 15\n"
     ]
    }
   ],
   "source": [
    "# Write your code here\n",
    "class Room:\n",
    "    \"\"\"Describes a room within a house\"\"\"\n",
    "    def __init__(self, room_name, length, width):\n",
    "        self.room_name = room_name\n",
    "        self.length = length\n",
    "        self.width = width\n",
    "\n",
    "# When you're done this code should work\n",
    "k = Room(\"kitchen\", 25, 15)\n",
    "assert k.room_name == \"kitchen\"\n",
    "assert k.length == 25\n",
    "assert k.width == 15\n",
    "print(f\"Room name: {k.room_name}, length: {k.length}, width: {k.width}\")"
   ],
   "metadata": {
    "collapsed": false,
    "pycharm": {
     "name": "#%%\n"
    }
   }
  },
  {
   "cell_type": "markdown",
   "source": [
    "(8) [4pts] Expand your \"Room\" class definition to include a method so that if you print a room object the room_name, length and width object variables are output.\n",
    "\n",
    "**Rubric**\n",
    "* [2pts] Defines the \\_\\_str\\_\\_ definition line correctly.\n",
    "* [1pt] Returns a string\n",
    "* [1pt] Returns a string with each of the variables (room_name, length, and width) in it"
   ],
   "metadata": {
    "collapsed": false
   }
  },
  {
   "cell_type": "code",
   "execution_count": 25,
   "outputs": [
    {
     "name": "stdout",
     "output_type": "stream",
     "text": [
      "Room name: kitchen, length: 25, width: 15\n"
     ]
    }
   ],
   "source": [
    "# Copy and paste your \"Room\" class definition from the previous question and add the requested method\n",
    "class Room:\n",
    "    \"\"\"Describes a room within a house\"\"\"\n",
    "    def __init__(self, room_name, length, width):\n",
    "        self.room_name = room_name\n",
    "        self.length = length\n",
    "        self.width = width\n",
    "\n",
    "    def __str__(self):\n",
    "        return f\"Room name: {self.room_name}, length: {self.length}, width: {self.width}\"\n",
    "\n",
    "# When you're done this code should work\n",
    "k = Room(\"kitchen\", 25, 15)\n",
    "assert k.room_name == \"kitchen\"\n",
    "assert k.length == 25\n",
    "assert k.width == 15\n",
    "print(k) # Should print something like \"Room name: kitchen, length: 25, width: 15\""
   ],
   "metadata": {
    "collapsed": false,
    "pycharm": {
     "name": "#%%\n"
    }
   }
  },
  {
   "cell_type": "markdown",
   "source": [
    "(9) [9pts] Complete the House class as described.\n",
    "\n",
    "**Rubric**\n",
    "* [3pts] For each method, give point for correct definition line and two points if method functions as expected."
   ],
   "metadata": {
    "collapsed": false,
    "pycharm": {
     "name": "#%% md\n"
    }
   }
  },
  {
   "cell_type": "code",
   "execution_count": 28,
   "outputs": [],
   "source": [
    "class House:\n",
    "    def __init__(self, address):\n",
    "        self.address = address\n",
    "        self.rooms = []\n",
    "\n",
    "    ### (1) Add a method named \"addRoom\" which takes\n",
    "    ### a room object and adds it to the list of rooms\n",
    "\n",
    "    def addRoom(self, room):\n",
    "        self.rooms.append(room)\n",
    "\n",
    "    ### (2) Add a method \"size\" which calculates the\n",
    "    ### sum of the areas of the rooms the house contains\n",
    "    ### For example if the house contains two rooms with proportions:\n",
    "    ### (width=10, length=12) and (width=7, length=7)\n",
    "    ## then \"size\" would return 10*12 + 7*7 = 169\n",
    "\n",
    "    def size(self):\n",
    "        return sum([ r.length * r.width for r in self.rooms ])\n",
    "\n",
    "    ### (3) Add a method __lt__ which compares this house\n",
    "    ### to another house object using the size method.\n",
    "    ### such that if this house has a smaller size than the other\n",
    "    ### house then this method will return True else it will return False\n",
    "\n",
    "    def __lt__(self, other):\n",
    "        return self.size() < other.size()\n",
    "\n",
    "# When you're done this code should work\n",
    "h = House(\"420 Ocean St, Santa Cruz, Ca\")\n",
    "h.addRoom(Room(\"kitchen\", 25, 15))\n",
    "h.addRoom(Room(\"bathroom\", 12, 8))\n",
    "h.addRoom(Room(\"bedroom\", 15, 15))\n",
    "assert h.size() == 25*15 + 12*8 + 15*15\n",
    "\n",
    "h2 = House(\"1156 High St, Santa Cruz, Ca\")\n",
    "h2.addRoom(Room(\"lecture theatre\", 100, 100))\n",
    "assert h2.size() == 100 * 100\n",
    "assert h < h2 # Because h.size() < h2.size()"
   ],
   "metadata": {
    "collapsed": false,
    "pycharm": {
     "name": "#%%\n"
    }
   }
  },
  {
   "cell_type": "markdown",
   "source": [
    "(10) [4pts] Create a class \"Apartment\" that inherits from the \"House\" class. Modify the \\_\\_init\\_\\_ method to take an \"apartment_number\" and \"address\" arguments. In the modified \\_\\_init\\_\\_ method call the parent House class's \\_\\_init\\_\\_ method, store the apartment_number as a new object variable.\n",
    "\n",
    "**Rubric**\n",
    "* [1pt] Correct class definition line that inherits from House\n",
    "* [1pt] Correct \\_\\_init\\_\\_ definition line.\n",
    "* [1pt] Correctly calls the House constructor either directly or via super\n",
    "* [1pt] Correctly sets the apartment_number variable."
   ],
   "metadata": {
    "collapsed": false,
    "pycharm": {
     "name": "#%% md\n"
    }
   }
  },
  {
   "cell_type": "code",
   "execution_count": 29,
   "outputs": [
    {
     "name": "stdout",
     "output_type": "stream",
     "text": [
      "Apartment number: Apartment 5, Address:201 Meder St, Santa Cruz, Ca\n"
     ]
    }
   ],
   "source": [
    "# Write your code here\n",
    "\n",
    "class Apartment(House):\n",
    "    def __init__(self, apartment_number, address):\n",
    "        House.__init__(self, address)\n",
    "        self.apartment_number = apartment_number\n",
    "\n",
    "# When you're done this should work\n",
    "a = Apartment(\"Apartment 5\", \"201 Meder St, Santa Cruz, Ca\")\n",
    "print(f\"Apartment number: {a.apartment_number}, Address:{a.address}\") # Should print \"Apartment number: 5, Address: 201 Meder St, Santa Cruz, Ca\""
   ],
   "metadata": {
    "collapsed": false,
    "pycharm": {
     "name": "#%%\n"
    }
   }
  },
  {
   "cell_type": "markdown",
   "source": [
    "(11) [5pts] Write a **recursive** function called *pow* that takes a pair of arguments *x* and *y* and returns *x\\*\\*y*. Assume that *x* and *y* are integers (whole numbers) greater than or equal to 0. **Do not use either the \\*\\* operator or the *math.pow* function**.\n",
    "\n",
    "**Rubric**\n",
    "* [1pt] Correct pow definition line\n",
    "* [1pt] Pow calls itself (even if incorrectly)\n",
    "* [3pt] Pow returns correct value (give partial credit if doesn't work for all cases, e.g. 2\\*\\*0, etc."
   ],
   "metadata": {
    "collapsed": false,
    "pycharm": {
     "name": "#%% md\n"
    }
   }
  },
  {
   "cell_type": "code",
   "execution_count": 30,
   "outputs": [],
   "source": [
    "## Write your code here\n",
    "def pow(x, y):\n",
    "    return 1 if y == 0 else x * pow(x, y-1)\n",
    "\n",
    "# When you're done this should work\n",
    "assert 1 == pow(2, 0)\n",
    "assert 2 == pow(2, 1)\n",
    "assert 4 == pow(2, 2)\n",
    "assert 8 == pow(2, 3)\n",
    "assert 16 == pow(2, 4)\n",
    "assert 81 == pow(3, 4)"
   ],
   "metadata": {
    "collapsed": false,
    "pycharm": {
     "name": "#%%\n"
    }
   }
  },
  {
   "cell_type": "markdown",
   "source": [
    "(12) [2pts] Complete the lambda function to sort the strings by their length.\n",
    "\n",
    "**Rubric**\n",
    "* [1pt] Defines a valid lambda function\n",
    "* [1pt] Correctly defines a lambda function that returns the string length"
   ],
   "metadata": {
    "collapsed": false,
    "pycharm": {
     "name": "#%% md\n"
    }
   }
  },
  {
   "cell_type": "code",
   "execution_count": 31,
   "outputs": [],
   "source": [
    "l = [ \"this\", \"is\", \"a\", \"sentence\", \"you\", \"sorts\"]\n",
    "\n",
    "#l2 = sorted(l, key=lambda ### Code TO COMPLETE)\n",
    "l2 = sorted(l, key=lambda x : len(x))\n",
    "\n",
    "# This should be true\n",
    "assert [\"a\", \"is\", \"you\", \"this\", \"sorts\", \"sentence\"] == l2"
   ],
   "metadata": {
    "collapsed": false,
    "pycharm": {
     "name": "#%%\n"
    }
   }
  },
  {
   "cell_type": "markdown",
   "source": [
    "(13) [8pts] Write code to ask a user to enter a number, storing the value as a variable x. In the case that the user does not enter a valid number print a message saying \"Not a valid number, try again\" and re-prompt the user, looping until the user enters a valid number. Once the user has entered a valid number print \"You entered: XX\", where XX is the number the user entered.\n",
    "Hint: use exception handling. The exception ValueError is returned by the float method if the input can not be\n",
    "converted to a number.\n",
    "\n",
    "**Rubric**\n",
    "* [1pt] Uses input to request a number.\n",
    "* [1pt] Uses float to convert the result of input to a float and stores result as x\n",
    "* [1pt] Uses a try/except to wrap the input request.\n",
    "* [1pt] Except catches a ValueError\n",
    "* [1pt] Prints \"Not a valid number, try again\" in the body of the except.\n",
    "* [1pt] Encases the try/except in a loop\n",
    "* [1pt] Exits the loop if a number is successfully read\n",
    "* [1pt] Prints the input value"
   ],
   "metadata": {
    "collapsed": false,
    "pycharm": {
     "name": "#%% md\n"
    }
   }
  },
  {
   "cell_type": "code",
   "execution_count": 32,
   "outputs": [
    {
     "name": "stdout",
     "output_type": "stream",
     "text": [
      "You entered 5.0\n"
     ]
    }
   ],
   "source": [
    "while 1:\n",
    "    try:\n",
    "        x = float(input(\"Enter a number: \"))\n",
    "        break\n",
    "    except ValueError:\n",
    "        print(\"Not a valid number, try again\")\n",
    "print(\"You entered\", x)"
   ],
   "metadata": {
    "collapsed": false,
    "pycharm": {
     "name": "#%%\n"
    }
   }
  },
  {
   "cell_type": "markdown",
   "source": [
    "(14) [4pts] Build a dictionary of words to the index (index starting from 0) of their first occurrence in Alice in Wonderland. Here assume words are defined by \"alice_words\" as any non-zero length sequence of non-white-space characters and note we ignore case by converting words to lower-case.\n",
    "\n",
    "**Rubric**\n",
    "* [1pt] Loops through the words in alice_words.\n",
    "* [1pt] Successfully indexes position of each word (either using enumerate or a separate variable*\n",
    "* [1pt] Add words to indices into words_to_first_occurrences.\n",
    "* [1pt] Uses a conditional to successfully only store the first occurrence of each\n",
    "* word in the dictionary."
   ],
   "metadata": {
    "collapsed": false,
    "pycharm": {
     "name": "#%% md\n"
    }
   }
  },
  {
   "cell_type": "code",
   "execution_count": 34,
   "outputs": [],
   "source": [
    "import urllib.request\n",
    "\n",
    "# Location of book\n",
    "url = \"http://openbookproject.net/thinkcs/python/english3e/_downloads/alice_in_wonderland.txt\"\n",
    "local_copy = \"alice_in_wonderland.txt\" # Local file to store book in\n",
    "\n",
    "urllib.request.urlretrieve(url, local_copy) # This function copies the\n",
    "# thing the url points at into the local file copy\n",
    "\n",
    "with open(local_copy) as fh: # Read from the local file into a string\n",
    "  alice_text = fh.read()\n",
    "\n",
    "alice_words = [i.lower() for i in alice_text.split()] # Split alice into words and make lower case\n",
    "\n",
    "words_to_first_occurrences = {} # Dictionary to complete\n",
    "\n",
    "## Code to write\n",
    "for index, word in enumerate(alice_words):\n",
    "    #print(index, word)\n",
    "    if word not in words_to_first_occurrences:\n",
    "        words_to_first_occurrences[word] = index\n",
    "\n",
    "## When done the following should be true\n",
    "assert words_to_first_occurrences[\"hatter\"] == 13384\n",
    "assert words_to_first_occurrences[\"cat\"] == 3861"
   ],
   "metadata": {
    "collapsed": false,
    "pycharm": {
     "name": "#%%\n"
    }
   }
  },
  {
   "cell_type": "markdown",
   "source": [
    "(15) [1pt] Print the number of unique words (according to our definition of a word) in Alice in wonderland.\n",
    "\n",
    "**Rubric**\n",
    "* [1pt] Correctly prints 4940"
   ],
   "metadata": {
    "collapsed": false,
    "pycharm": {
     "name": "#%% md\n"
    }
   }
  },
  {
   "cell_type": "code",
   "execution_count": 35,
   "outputs": [
    {
     "name": "stdout",
     "output_type": "stream",
     "text": [
      "4940\n"
     ]
    }
   ],
   "source": [
    "## Code to write\n",
    "\n",
    "print(len(words_to_first_occurrences))"
   ],
   "metadata": {
    "collapsed": false,
    "pycharm": {
     "name": "#%%\n"
    }
   }
  },
  {
   "cell_type": "markdown",
   "source": [
    "(16) [5pts] [Extra credit] A singleton word is a word that occurs only once in the text. Adapt your previous code to only store singleton words in the dictionary *unique_words_to_first_occurrences*.\n",
    "\n",
    "**Rubric**\n",
    "* [5pt] Successfully calculates number of singleton words (give partial credit for good but incorrect attempts)\n"
   ],
   "metadata": {
    "collapsed": false,
    "pycharm": {
     "name": "#%% md\n"
    }
   }
  },
  {
   "cell_type": "code",
   "execution_count": 11,
   "outputs": [
    {
     "data": {
      "text/plain": "3015"
     },
     "execution_count": 11,
     "metadata": {},
     "output_type": "execute_result"
    }
   ],
   "source": [
    "unique_words_to_first_occurrences = {} # Dictionary to complete of words that occur\n",
    "# exactly once in alice to the index of their occurrence\n",
    "\n",
    "## Code to write\n",
    "non_unique_words = set()\n",
    "for index, word in enumerate(alice_words):\n",
    "    #print(index, word)\n",
    "    if word not in words_to_first_occurrences:\n",
    "        if word not in non_unique_words:\n",
    "            words_to_first_occurrences[word] = index\n",
    "    else:\n",
    "        del words_to_first_occurrences[word]\n",
    "        non_unique_words.add(word)\n",
    "\n",
    "## This should be true when you're done\n",
    "assert len(unique_words_to_first_occurrences) == 3015"
   ],
   "metadata": {
    "collapsed": false,
    "pycharm": {
     "name": "#%%\n"
    }
   }
  },
  {
   "cell_type": "markdown",
   "source": [],
   "metadata": {
    "collapsed": false,
    "pycharm": {
     "name": "#%% md\n"
    }
   }
  }
 ],
 "metadata": {
  "kernelspec": {
   "display_name": "Python 3",
   "language": "python",
   "name": "python3"
  },
  "language_info": {
   "codemirror_mode": {
    "name": "ipython",
    "version": 2
   },
   "file_extension": ".py",
   "mimetype": "text/x-python",
   "name": "python",
   "nbconvert_exporter": "python",
   "pygments_lexer": "ipython2",
   "version": "2.7.6"
  }
 },
 "nbformat": 4,
 "nbformat_minor": 0
}